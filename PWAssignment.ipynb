{
  "nbformat": 4,
  "nbformat_minor": 0,
  "metadata": {
    "colab": {
      "provenance": []
    },
    "kernelspec": {
      "name": "python3",
      "display_name": "Python 3"
    },
    "language_info": {
      "name": "python"
    }
  },
  "cells": [
    {
      "cell_type": "markdown",
      "source": [
        "Q1. Code is commented in python by ##\n"
      ],
      "metadata": {
        "id": "4nPnEU1EC32w"
      }
    },
    {
      "cell_type": "markdown",
      "source": [
        "Q2.Its a symbolic name used to refer something. We declare a varoable by assigning some value to it by using \"=\"Sign"
      ],
      "metadata": {
        "id": "1MbmF4QLCz3t"
      }
    },
    {
      "cell_type": "code",
      "source": [
        "## Q3. List converted to tuple .\n",
        "l1=[1,2,3,4]\n",
        "type(l1)\n",
        "l2=tuple(l1)\n",
        "l2"
      ],
      "metadata": {
        "colab": {
          "base_uri": "https://localhost:8080/"
        },
        "id": "zD36FBtJEF9_",
        "outputId": "d6507cf5-26c9-4a38-9b7c-6da2e56c19ee"
      },
      "execution_count": 3,
      "outputs": [
        {
          "output_type": "execute_result",
          "data": {
            "text/plain": [
              "(1, 2, 3, 4)"
            ]
          },
          "metadata": {},
          "execution_count": 3
        }
      ]
    },
    {
      "cell_type": "markdown",
      "source": [
        "Q4. open a command line and type the word python followed by the path to your script file like this: python first_script.py Hello World! Then you hit the ENTER button from the keyboard\n"
      ],
      "metadata": {
        "id": "y3f50ieyEt3k"
      }
    },
    {
      "cell_type": "code",
      "source": [
        "## Q5.\n",
        "my_list = [1, 2, 3, 4, 5]\n",
        "my_list[1:3]"
      ],
      "metadata": {
        "colab": {
          "base_uri": "https://localhost:8080/"
        },
        "id": "OsJsl43iERgQ",
        "outputId": "0cd57b97-9319-4d9b-d574-b4741e31ec58"
      },
      "execution_count": 6,
      "outputs": [
        {
          "output_type": "execute_result",
          "data": {
            "text/plain": [
              "[2, 3]"
            ]
          },
          "metadata": {},
          "execution_count": 6
        }
      ]
    },
    {
      "cell_type": "code",
      "source": [
        "## Q6. A complext number is a number which have a real and imaginary part.\n",
        "a=1+2j\n",
        "type(a)"
      ],
      "metadata": {
        "colab": {
          "base_uri": "https://localhost:8080/"
        },
        "id": "2t3E5tIgFDe5",
        "outputId": "dfa1664d-f00d-4c86-ea67-389e22ec2d4d"
      },
      "execution_count": 7,
      "outputs": [
        {
          "output_type": "execute_result",
          "data": {
            "text/plain": [
              "complex"
            ]
          },
          "metadata": {},
          "execution_count": 7
        }
      ]
    },
    {
      "cell_type": "code",
      "source": [
        "## Q7.\n",
        "age=25\n",
        "print(age)"
      ],
      "metadata": {
        "colab": {
          "base_uri": "https://localhost:8080/"
        },
        "id": "kp9AoZg3FhxS",
        "outputId": "ed9a8600-3644-4851-d34d-22dcf6651aff"
      },
      "execution_count": 8,
      "outputs": [
        {
          "output_type": "stream",
          "name": "stdout",
          "text": [
            "25\n"
          ]
        }
      ]
    },
    {
      "cell_type": "code",
      "source": [
        "## Q8.\n",
        "price=9.99\n",
        "type(price)"
      ],
      "metadata": {
        "colab": {
          "base_uri": "https://localhost:8080/"
        },
        "id": "tAMRD6axFuUL",
        "outputId": "229531cf-c38e-4b41-facf-bceb51bd1136"
      },
      "execution_count": 9,
      "outputs": [
        {
          "output_type": "execute_result",
          "data": {
            "text/plain": [
              "float"
            ]
          },
          "metadata": {},
          "execution_count": 9
        }
      ]
    },
    {
      "cell_type": "code",
      "source": [
        "## Q9.\n",
        "name=\"Akash\"\n",
        "print(name)"
      ],
      "metadata": {
        "colab": {
          "base_uri": "https://localhost:8080/"
        },
        "id": "JJEa820kGAWA",
        "outputId": "9fbec0db-9aed-47cb-d24e-746ad76f70c9"
      },
      "execution_count": 10,
      "outputs": [
        {
          "output_type": "stream",
          "name": "stdout",
          "text": [
            "Akash\n"
          ]
        }
      ]
    },
    {
      "cell_type": "code",
      "source": [
        "## Q10.\n",
        "str=\"hello,World!\"\n",
        "len(str)\n",
        "str[6:11]"
      ],
      "metadata": {
        "colab": {
          "base_uri": "https://localhost:8080/",
          "height": 36
        },
        "id": "kRpFIJQ0GLm0",
        "outputId": "e89cdbc3-a762-4065-a5b4-8fa9561cba14"
      },
      "execution_count": 22,
      "outputs": [
        {
          "output_type": "execute_result",
          "data": {
            "text/plain": [
              "'World'"
            ],
            "application/vnd.google.colaboratory.intrinsic+json": {
              "type": "string"
            }
          },
          "metadata": {},
          "execution_count": 22
        }
      ]
    },
    {
      "cell_type": "code",
      "source": [
        "## Q11.\n",
        "\n",
        "is_student = True\n",
        "print(is_student)"
      ],
      "metadata": {
        "colab": {
          "base_uri": "https://localhost:8080/"
        },
        "id": "G05CtPsJM4rV",
        "outputId": "5e79022e-1fae-412b-fe45-4488a7844daf"
      },
      "execution_count": 23,
      "outputs": [
        {
          "output_type": "stream",
          "name": "stdout",
          "text": [
            "True\n"
          ]
        }
      ]
    },
    {
      "cell_type": "code",
      "source": [],
      "metadata": {
        "id": "vrMjLeNdO_SF"
      },
      "execution_count": 28,
      "outputs": []
    },
    {
      "cell_type": "code",
      "source": [],
      "metadata": {
        "id": "yvf77kD8SOfp"
      },
      "execution_count": null,
      "outputs": []
    }
  ]
}